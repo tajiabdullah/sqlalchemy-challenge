{
 "cells": [
  {
   "cell_type": "code",
   "execution_count": 154,
   "metadata": {},
   "outputs": [],
   "source": [
    "%matplotlib inline\n",
    "from matplotlib import style\n",
    "style.use('fivethirtyeight')\n",
    "import matplotlib.pyplot as plt"
   ]
  },
  {
   "cell_type": "code",
   "execution_count": 155,
   "metadata": {},
   "outputs": [],
   "source": [
    "import numpy as np\n",
    "import pandas as pd\n",
    "import datetime as dt"
   ]
  },
  {
   "cell_type": "markdown",
   "metadata": {},
   "source": [
    "## Reflect Tables into SQLALchemy ORM"
   ]
  },
  {
   "cell_type": "code",
   "execution_count": 156,
   "metadata": {},
   "outputs": [],
   "source": [
    "# Python SQL toolkit and Object Relational Mapper\n",
    "import sqlalchemy\n",
    "from sqlalchemy.ext.automap import automap_base\n",
    "from sqlalchemy.orm import Session\n",
    "from sqlalchemy import create_engine, func"
   ]
  },
  {
   "cell_type": "code",
   "execution_count": 157,
   "metadata": {},
   "outputs": [],
   "source": [
    "# create engine to hawaii.sqlite\n",
    "engine = create_engine(\"sqlite:///data/hawaii.sqlite\")"
   ]
  },
  {
   "cell_type": "code",
   "execution_count": 158,
   "metadata": {},
   "outputs": [],
   "source": [
    "# reflect an existing database into a new model\n",
    "# reflect the tables\n",
    "\n",
    "base = automap_base()\n",
    "base.prepare(engine, reflect = True)"
   ]
  },
  {
   "cell_type": "code",
   "execution_count": 159,
   "metadata": {},
   "outputs": [
    {
     "data": {
      "text/plain": [
       "['measurement', 'station']"
      ]
     },
     "execution_count": 159,
     "metadata": {},
     "output_type": "execute_result"
    }
   ],
   "source": [
    "# View all of the classes that automap found\n",
    "\n",
    "base.classes.keys()"
   ]
  },
  {
   "cell_type": "code",
   "execution_count": 160,
   "metadata": {},
   "outputs": [],
   "source": [
    "# Save references to each table\n",
    "\n",
    "measurement = base.classes.measurement\n",
    "station = base.classes.station"
   ]
  },
  {
   "cell_type": "code",
   "execution_count": 161,
   "metadata": {},
   "outputs": [],
   "source": [
    "# Create our session (link) from Python to the DB\n",
    "\n",
    "session = Session(engine)"
   ]
  },
  {
   "cell_type": "markdown",
   "metadata": {},
   "source": [
    "## Bonus Challenge Assignment: Temperature Analysis II"
   ]
  },
  {
   "cell_type": "code",
   "execution_count": 162,
   "metadata": {},
   "outputs": [
    {
     "name": "stdout",
     "output_type": "stream",
     "text": [
      "[(62.0, 69.57142857142857, 74.0)]\n"
     ]
    }
   ],
   "source": [
    "# This function called `calc_temps` will accept start date and end date in the format '%Y-%m-%d' \n",
    "# and return the minimum, maximum, and average temperatures for that range of dates\n",
    "def calc_temps(start_date, end_date):\n",
    "    \"\"\"TMIN, TAVG, and TMAX for a list of dates.\n",
    "    \n",
    "    Args:\n",
    "        start_date (string): A date string in the format %Y-%m-%d\n",
    "        end_date (string): A date string in the format %Y-%m-%d\n",
    "        \n",
    "    Returns:\n",
    "        TMIN, TAVE, and TMAX\n",
    "    \"\"\"\n",
    "    \n",
    "    return session.query(func.min(measurement.tobs), func.avg(measurement.tobs), func.max(measurement.tobs)).\\\n",
    "        filter(measurement.date >= start_date).filter(measurement.date <= end_date).all()\n",
    "\n",
    "# For example\n",
    "print(calc_temps('2012-02-28', '2012-03-05'))"
   ]
  },
  {
   "cell_type": "code",
   "execution_count": 163,
   "metadata": {},
   "outputs": [
    {
     "data": {
      "text/html": [
       "<div>\n",
       "<style scoped>\n",
       "    .dataframe tbody tr th:only-of-type {\n",
       "        vertical-align: middle;\n",
       "    }\n",
       "\n",
       "    .dataframe tbody tr th {\n",
       "        vertical-align: top;\n",
       "    }\n",
       "\n",
       "    .dataframe thead th {\n",
       "        text-align: right;\n",
       "    }\n",
       "</style>\n",
       "<table border=\"1\" class=\"dataframe\">\n",
       "  <thead>\n",
       "    <tr style=\"text-align: right;\">\n",
       "      <th></th>\n",
       "      <th>Minimum Temperature</th>\n",
       "      <th>Average Temperature</th>\n",
       "      <th>Maximum Temperature</th>\n",
       "    </tr>\n",
       "  </thead>\n",
       "  <tbody>\n",
       "    <tr>\n",
       "      <th>0</th>\n",
       "      <td>72.0</td>\n",
       "      <td>79.25</td>\n",
       "      <td>83.0</td>\n",
       "    </tr>\n",
       "  </tbody>\n",
       "</table>\n",
       "</div>"
      ],
      "text/plain": [
       "   Minimum Temperature  Average Temperature  Maximum Temperature\n",
       "0                 72.0                79.25                 83.0"
      ]
     },
     "execution_count": 163,
     "metadata": {},
     "output_type": "execute_result"
    }
   ],
   "source": [
    "# Use the function `calc_temps` to calculate the tmin, tavg, and tmax \n",
    "# for a year in the data set\n",
    "\n",
    "historical = (calc_temps('2017-08-01', '2017-08-07'))\n",
    "historical_df = pd.DataFrame(historical, columns = ['Minimum Temperature','Average Temperature','Maximum Temperature'])\n",
    "historical_df = historical_df.reset_index(drop = True)\n",
    "historical_df"
   ]
  },
  {
   "cell_type": "code",
   "execution_count": 164,
   "metadata": {},
   "outputs": [
    {
     "data": {
      "image/png": "[encoded data removed]",
      "text/plain": [
       "<Figure size 360x504 with 1 Axes>"
      ]
     },
     "metadata": {},
     "output_type": "display_data"
    }
   ],
   "source": [
    "# Plot the results from your previous query as a bar chart. \n",
    "# Use \"Trip Avg Temp\" as your Title\n",
    "# Use the average temperature for bar height (y value)\n",
    "# Use the peak-to-peak (tmax-tmin) value as the y error bar (yerr)\n",
    "historical_df.plot.bar(y=\"Average Temperature\", yerr=(historical_df[\"Maximum Temperature\"] - historical_df[\"Minimum Temperature\"]), \n",
    "                    title=\"Trip Average Temperature\", color=\"royalblue\", \n",
    "                    alpha=0.5, figsize=(5,7), legend=None)\n",
    "plt.xticks([])\n",
    "plt.ylabel(\"Temperature (F)\")\n",
    "plt.tight_layout()\n",
    "plt.show()\n"
   ]
  },
  {
   "cell_type": "markdown",
   "metadata": {},
   "source": [
    "### Daily Rainfall Average"
   ]
  },
  {
   "cell_type": "code",
   "execution_count": 165,
   "metadata": {},
   "outputs": [
    {
     "data": {
      "text/html": [
       "<style type=\"text/css\">\n",
       "#T_c1afc_ th {\n",
       "  text-align: left;\n",
       "}\n",
       "#T_c1afc_row0_col0, #T_c1afc_row0_col1, #T_c1afc_row0_col2, #T_c1afc_row0_col3, #T_c1afc_row0_col4, #T_c1afc_row1_col0, #T_c1afc_row1_col1, #T_c1afc_row1_col2, #T_c1afc_row1_col3, #T_c1afc_row1_col4, #T_c1afc_row2_col0, #T_c1afc_row2_col1, #T_c1afc_row2_col2, #T_c1afc_row2_col3, #T_c1afc_row2_col4, #T_c1afc_row3_col0, #T_c1afc_row3_col1, #T_c1afc_row3_col2, #T_c1afc_row3_col3, #T_c1afc_row3_col4, #T_c1afc_row4_col0, #T_c1afc_row4_col1, #T_c1afc_row4_col2, #T_c1afc_row4_col3, #T_c1afc_row4_col4 {\n",
       "  text-align: left;\n",
       "}\n",
       "</style>\n",
       "<table id=\"T_c1afc_\">\n",
       "  <thead>\n",
       "    <tr>\n",
       "      <th class=\"blank level0\" >&nbsp;</th>\n",
       "      <th class=\"col_heading level0 col0\" >Name</th>\n",
       "      <th class=\"col_heading level0 col1\" >Precipitation</th>\n",
       "      <th class=\"col_heading level0 col2\" >Latitude</th>\n",
       "      <th class=\"col_heading level0 col3\" >Longitude</th>\n",
       "      <th class=\"col_heading level0 col4\" >Elevation</th>\n",
       "    </tr>\n",
       "    <tr>\n",
       "      <th class=\"index_name level0\" >Station</th>\n",
       "      <th class=\"blank col0\" >&nbsp;</th>\n",
       "      <th class=\"blank col1\" >&nbsp;</th>\n",
       "      <th class=\"blank col2\" >&nbsp;</th>\n",
       "      <th class=\"blank col3\" >&nbsp;</th>\n",
       "      <th class=\"blank col4\" >&nbsp;</th>\n",
       "    </tr>\n",
       "  </thead>\n",
       "  <tbody>\n",
       "    <tr>\n",
       "      <th id=\"T_c1afc_level0_row0\" class=\"row_heading level0 row0\" >USC00516128</th>\n",
       "      <td id=\"T_c1afc_row0_col0\" class=\"data row0 col0\" >MANOA LYON ARBO 785.2, HI US</td>\n",
       "      <td id=\"T_c1afc_row0_col1\" class=\"data row0 col1\" >0.360000</td>\n",
       "      <td id=\"T_c1afc_row0_col2\" class=\"data row0 col2\" >21.333100</td>\n",
       "      <td id=\"T_c1afc_row0_col3\" class=\"data row0 col3\" >-157.802500</td>\n",
       "      <td id=\"T_c1afc_row0_col4\" class=\"data row0 col4\" >152.400000</td>\n",
       "    </tr>\n",
       "    <tr>\n",
       "      <th id=\"T_c1afc_level0_row1\" class=\"row_heading level0 row1\" >USC00514830</th>\n",
       "      <td id=\"T_c1afc_row1_col0\" class=\"data row1 col0\" >KUALOA RANCH HEADQUARTERS 886.9, HI US</td>\n",
       "      <td id=\"T_c1afc_row1_col1\" class=\"data row1 col1\" >0.220000</td>\n",
       "      <td id=\"T_c1afc_row1_col2\" class=\"data row1 col2\" >21.521300</td>\n",
       "      <td id=\"T_c1afc_row1_col3\" class=\"data row1 col3\" >-157.837400</td>\n",
       "      <td id=\"T_c1afc_row1_col4\" class=\"data row1 col4\" >7.000000</td>\n",
       "    </tr>\n",
       "    <tr>\n",
       "      <th id=\"T_c1afc_level0_row2\" class=\"row_heading level0 row2\" >USC00519281</th>\n",
       "      <td id=\"T_c1afc_row2_col0\" class=\"data row2 col0\" >WAIHEE 837.5, HI US</td>\n",
       "      <td id=\"T_c1afc_row2_col1\" class=\"data row2 col1\" >0.060000</td>\n",
       "      <td id=\"T_c1afc_row2_col2\" class=\"data row2 col2\" >21.451670</td>\n",
       "      <td id=\"T_c1afc_row2_col3\" class=\"data row2 col3\" >-157.848890</td>\n",
       "      <td id=\"T_c1afc_row2_col4\" class=\"data row2 col4\" >32.900000</td>\n",
       "    </tr>\n",
       "    <tr>\n",
       "      <th id=\"T_c1afc_level0_row3\" class=\"row_heading level0 row3\" >USC00519397</th>\n",
       "      <td id=\"T_c1afc_row3_col0\" class=\"data row3 col0\" >WAIKIKI 717.2, HI US</td>\n",
       "      <td id=\"T_c1afc_row3_col1\" class=\"data row3 col1\" >0.040000</td>\n",
       "      <td id=\"T_c1afc_row3_col2\" class=\"data row3 col2\" >21.271600</td>\n",
       "      <td id=\"T_c1afc_row3_col3\" class=\"data row3 col3\" >-157.816800</td>\n",
       "      <td id=\"T_c1afc_row3_col4\" class=\"data row3 col4\" >3.000000</td>\n",
       "    </tr>\n",
       "    <tr>\n",
       "      <th id=\"T_c1afc_level0_row4\" class=\"row_heading level0 row4\" >USC00519523</th>\n",
       "      <td id=\"T_c1afc_row4_col0\" class=\"data row4 col0\" >WAIMANALO EXPERIMENTAL FARM, HI US</td>\n",
       "      <td id=\"T_c1afc_row4_col1\" class=\"data row4 col1\" >0.000000</td>\n",
       "      <td id=\"T_c1afc_row4_col2\" class=\"data row4 col2\" >21.335560</td>\n",
       "      <td id=\"T_c1afc_row4_col3\" class=\"data row4 col3\" >-157.711390</td>\n",
       "      <td id=\"T_c1afc_row4_col4\" class=\"data row4 col4\" >19.500000</td>\n",
       "    </tr>\n",
       "  </tbody>\n",
       "</table>\n"
      ],
      "text/plain": [
       "<pandas.io.formats.style.Styler at 0x7fc6acff74f0>"
      ]
     },
     "execution_count": 165,
     "metadata": {},
     "output_type": "execute_result"
    }
   ],
   "source": [
    "# Calculate the total amount of rainfall per weather station for your trip dates using the previous year's \n",
    "# matching dates.\n",
    "# Sort this in descending order by precipitation amount and list the station, name, latitude, longitude, and elevation\n",
    "\n",
    "start_date = dt.date(2017, 8, 1)\n",
    "end_date = dt.date(2017, 8, 7)\n",
    "\n",
    "sel = ([station.station, \n",
    "        station.name, \n",
    "        func.sum(measurement.prcp), \n",
    "        station.latitude, \n",
    "        station.longitude, \n",
    "        station.elevation\n",
    "       ])\n",
    "\n",
    "station_rain = (session.query(*sel)\n",
    "                   .filter(station.station == measurement.station)\n",
    "                   .filter(measurement.date >= start_date)\n",
    "                   .filter(measurement.date <= end_date)\n",
    "                   .group_by(station.station)\n",
    "                   .order_by(func.sum(measurement.prcp).desc())\n",
    "                   .all())\n",
    "\n",
    "#convert query object to data frame\n",
    "station_rain_df = pd.DataFrame(station_rain)\n",
    "#rename columns\n",
    "station_rain_df = station_rain_df.rename(columns={0: \"Station\", 1: \"Name\", \n",
    "                                                    2: \"Precipitation\", 3: \"Latitude\", \n",
    "                                                    4: \"Longitude\", 5: \"Elevation\"})\n",
    "station_rain_df.set_index('Station',inplace = True)\n",
    "\n",
    "station_rain_df_left = station_rain_df.style.set_properties(**{'text-align': 'left'})\n",
    "station_rain_df_left.set_table_styles([dict(selector='th', props=[('text-align', 'left')])])\n",
    "\n",
    "station_rain_df_left"
   ]
  },
  {
   "cell_type": "markdown",
   "metadata": {},
   "source": [
    "### Daily Temperature Normals"
   ]
  },
  {
   "cell_type": "code",
   "execution_count": 166,
   "metadata": {},
   "outputs": [
    {
     "data": {
      "text/plain": [
       "[(62.0, 69.15384615384616, 77.0)]"
      ]
     },
     "execution_count": 166,
     "metadata": {},
     "output_type": "execute_result"
    }
   ],
   "source": [
    "# Use this function to calculate the daily normals \n",
    "# (i.e. the averages for tmin, tmax, and tavg for all historic data matching a specific month and day)\n",
    "\n",
    "def daily_normals(date):\n",
    "    \"\"\"Daily Normals.\n",
    "    \n",
    "    Args:\n",
    "        date (str): A date string in the format '%m-%d'\n",
    "        \n",
    "    Returns:\n",
    "        A list of tuples containing the daily normals, tmin, tavg, and tmax\n",
    "    \n",
    "    \"\"\"\n",
    "    \n",
    "    sel = [func.min(measurement.tobs), func.avg(measurement.tobs), func.max(measurement.tobs)]\n",
    "    return session.query(*sel).filter(func.strftime(\"%m-%d\", measurement.date) == date).all()\n",
    "\n",
    "# For example\n",
    "daily_normals(\"01-01\")"
   ]
  },
  {
   "cell_type": "code",
   "execution_count": 167,
   "metadata": {},
   "outputs": [
    {
     "data": {
      "text/plain": [
       "Index(['08-01', '08-02', '08-03', '08-04', '08-05', '08-06', '08-07'], dtype='object')"
      ]
     },
     "execution_count": 167,
     "metadata": {},
     "output_type": "execute_result"
    }
   ],
   "source": [
    "# calculate the daily normals for your trip\n",
    "# push each tuple of calculations into a list called `normals`\n",
    "# Set the start and end date of the trip\n",
    "\n",
    "start_date = '2017-08-01'\n",
    "end_date = '2017-08-07'\n",
    "\n",
    "# Use the start and end date to create a range of dates\n",
    "\n",
    "dates_range = pd.date_range(start_date, end_date).strftime('%Y-%m-%d')\n",
    "\n",
    "# Strip off the year and save a list of strings in the format %m-%d\n",
    "\n",
    "new_format_dates_range = pd.date_range(start_date, end_date).strftime('%m-%d')\n",
    "\n",
    "new_format_dates_range"
   ]
  },
  {
   "cell_type": "code",
   "execution_count": 168,
   "metadata": {},
   "outputs": [
    {
     "data": {
      "text/plain": [
       "[[(67.0, 75.54, 83.0)],\n",
       " [(68.0, 75.60377358490567, 84.0)],\n",
       " [(70.0, 76.61111111111111, 85.0)],\n",
       " [(69.0, 76.71153846153847, 84.0)],\n",
       " [(69.0, 76.14814814814815, 82.0)],\n",
       " [(67.0, 76.25, 83.0)],\n",
       " [(71.0, 77.15686274509804, 83.0)]]"
      ]
     },
     "execution_count": 168,
     "metadata": {},
     "output_type": "execute_result"
    }
   ],
   "source": [
    "# Use the `daily_normals` function to calculate the normals for each date string \n",
    "# and append the results to a list called `normals`.\n",
    "# Loop through the list of %m-%d strings and calculate the normals for each date\n",
    "# push each tuple of calculations into a list called `normals`\n",
    "\n",
    "normals = []\n",
    "for date in new_format_dates_range:\n",
    "    normal = daily_normals(date)\n",
    "    normals.append(normal)\n",
    "\n",
    "normals"
   ]
  },
  {
   "cell_type": "code",
   "execution_count": 169,
   "metadata": {},
   "outputs": [
    {
     "data": {
      "text/html": [
       "<style type=\"text/css\">\n",
       "#T_e6486_ th {\n",
       "  text-align: left;\n",
       "}\n",
       "#T_e6486_row0_col0, #T_e6486_row0_col1, #T_e6486_row0_col2, #T_e6486_row1_col0, #T_e6486_row1_col1, #T_e6486_row1_col2, #T_e6486_row2_col0, #T_e6486_row2_col1, #T_e6486_row2_col2, #T_e6486_row3_col0, #T_e6486_row3_col1, #T_e6486_row3_col2, #T_e6486_row4_col0, #T_e6486_row4_col1, #T_e6486_row4_col2, #T_e6486_row5_col0, #T_e6486_row5_col1, #T_e6486_row5_col2, #T_e6486_row6_col0, #T_e6486_row6_col1, #T_e6486_row6_col2 {\n",
       "  text-align: left;\n",
       "}\n",
       "</style>\n",
       "<table id=\"T_e6486_\">\n",
       "  <thead>\n",
       "    <tr>\n",
       "      <th class=\"blank level0\" >&nbsp;</th>\n",
       "      <th class=\"col_heading level0 col0\" >MIN TEMP</th>\n",
       "      <th class=\"col_heading level0 col1\" >AVG TEMP</th>\n",
       "      <th class=\"col_heading level0 col2\" >MAX TEMP</th>\n",
       "    </tr>\n",
       "    <tr>\n",
       "      <th class=\"index_name level0\" >Date</th>\n",
       "      <th class=\"blank col0\" >&nbsp;</th>\n",
       "      <th class=\"blank col1\" >&nbsp;</th>\n",
       "      <th class=\"blank col2\" >&nbsp;</th>\n",
       "    </tr>\n",
       "  </thead>\n",
       "  <tbody>\n",
       "    <tr>\n",
       "      <th id=\"T_e6486_level0_row0\" class=\"row_heading level0 row0\" >2017-08-01</th>\n",
       "      <td id=\"T_e6486_row0_col0\" class=\"data row0 col0\" >67.000000</td>\n",
       "      <td id=\"T_e6486_row0_col1\" class=\"data row0 col1\" >75.540000</td>\n",
       "      <td id=\"T_e6486_row0_col2\" class=\"data row0 col2\" >83.000000</td>\n",
       "    </tr>\n",
       "    <tr>\n",
       "      <th id=\"T_e6486_level0_row1\" class=\"row_heading level0 row1\" >2017-08-02</th>\n",
       "      <td id=\"T_e6486_row1_col0\" class=\"data row1 col0\" >68.000000</td>\n",
       "      <td id=\"T_e6486_row1_col1\" class=\"data row1 col1\" >75.603774</td>\n",
       "      <td id=\"T_e6486_row1_col2\" class=\"data row1 col2\" >84.000000</td>\n",
       "    </tr>\n",
       "    <tr>\n",
       "      <th id=\"T_e6486_level0_row2\" class=\"row_heading level0 row2\" >2017-08-03</th>\n",
       "      <td id=\"T_e6486_row2_col0\" class=\"data row2 col0\" >70.000000</td>\n",
       "      <td id=\"T_e6486_row2_col1\" class=\"data row2 col1\" >76.611111</td>\n",
       "      <td id=\"T_e6486_row2_col2\" class=\"data row2 col2\" >85.000000</td>\n",
       "    </tr>\n",
       "    <tr>\n",
       "      <th id=\"T_e6486_level0_row3\" class=\"row_heading level0 row3\" >2017-08-04</th>\n",
       "      <td id=\"T_e6486_row3_col0\" class=\"data row3 col0\" >69.000000</td>\n",
       "      <td id=\"T_e6486_row3_col1\" class=\"data row3 col1\" >76.711538</td>\n",
       "      <td id=\"T_e6486_row3_col2\" class=\"data row3 col2\" >84.000000</td>\n",
       "    </tr>\n",
       "    <tr>\n",
       "      <th id=\"T_e6486_level0_row4\" class=\"row_heading level0 row4\" >2017-08-05</th>\n",
       "      <td id=\"T_e6486_row4_col0\" class=\"data row4 col0\" >69.000000</td>\n",
       "      <td id=\"T_e6486_row4_col1\" class=\"data row4 col1\" >76.148148</td>\n",
       "      <td id=\"T_e6486_row4_col2\" class=\"data row4 col2\" >82.000000</td>\n",
       "    </tr>\n",
       "    <tr>\n",
       "      <th id=\"T_e6486_level0_row5\" class=\"row_heading level0 row5\" >2017-08-06</th>\n",
       "      <td id=\"T_e6486_row5_col0\" class=\"data row5 col0\" >67.000000</td>\n",
       "      <td id=\"T_e6486_row5_col1\" class=\"data row5 col1\" >76.250000</td>\n",
       "      <td id=\"T_e6486_row5_col2\" class=\"data row5 col2\" >83.000000</td>\n",
       "    </tr>\n",
       "    <tr>\n",
       "      <th id=\"T_e6486_level0_row6\" class=\"row_heading level0 row6\" >2017-08-07</th>\n",
       "      <td id=\"T_e6486_row6_col0\" class=\"data row6 col0\" >71.000000</td>\n",
       "      <td id=\"T_e6486_row6_col1\" class=\"data row6 col1\" >77.156863</td>\n",
       "      <td id=\"T_e6486_row6_col2\" class=\"data row6 col2\" >83.000000</td>\n",
       "    </tr>\n",
       "  </tbody>\n",
       "</table>\n"
      ],
      "text/plain": [
       "<pandas.io.formats.style.Styler at 0x7fc6ad9d2640>"
      ]
     },
     "execution_count": 169,
     "metadata": {},
     "output_type": "execute_result"
    }
   ],
   "source": [
    "# Load the previous query results into a Pandas DataFrame and add the `trip_dates` range as the `date` index\n",
    "\n",
    "from itertools import chain\n",
    "\n",
    "# Convert back to list (mutable) from tuple (immutable)\n",
    "\n",
    "new_normals = [x for x in chain.from_iterable(normals)]\n",
    "\n",
    "# Add columns names to dataframe\n",
    "\n",
    "new_normals_df = pd.DataFrame(new_normals, columns = ['MIN TEMP', 'AVG TEMP', 'MAX TEMP'])\n",
    "\n",
    "# Add 'Date' column to dataframe along with corresponding list \n",
    "\n",
    "new_normals_df['Date'] = dates_range\n",
    "\n",
    "# Make \"Date\" column the index\n",
    "\n",
    "new_normals_df.set_index('Date',inplace = True)\n",
    "\n",
    "# Make the dataframe contents indent to left\n",
    "\n",
    "new_normals_df_left = new_normals_df.style.set_properties(**{'text-align': 'left'})\n",
    "new_normals_df_left.set_table_styles([dict(selector='th', props=[('text-align', 'left')])])\n",
    "\n",
    "new_normals_df_left"
   ]
  },
  {
   "cell_type": "code",
   "execution_count": 170,
   "metadata": {},
   "outputs": [
    {
     "data": {
      "image/png": "[encoded data removed]",
      "text/plain": [
       "<Figure size 432x288 with 1 Axes>"
      ]
     },
     "metadata": {},
     "output_type": "display_data"
    }
   ],
   "source": [
    "# Plot the daily normals as an area plot with `stacked=False`\n",
    "\n",
    "new_normals_df.plot(kind='area', alpha=.25, stacked=False, title=\"DAILY NORMALS\\n(Vacation Dates)\")\n",
    "plt.ylabel(\"Temperature (F)\")\n",
    "plt.xticks(rotation = 270)\n",
    "plt.show()"
   ]
  },
  {
   "cell_type": "code",
   "execution_count": null,
   "metadata": {},
   "outputs": [],
   "source": []
  },
  {
   "cell_type": "code",
   "execution_count": null,
   "metadata": {},
   "outputs": [],
   "source": []
  }
 ],
 "metadata": {
  "kernelspec": {
   "display_name": "Python 3 (ipykernel)",
   "language": "python",
   "name": "python3"
  },
  "language_info": {
   "codemirror_mode": {
    "name": "ipython",
    "version": 3
   },
   "file_extension": ".py",
   "mimetype": "text/x-python",
   "name": "python",
   "nbconvert_exporter": "python",
   "pygments_lexer": "ipython3",
   "version": "3.9.7"
  }
 },
 "nbformat": 4,
 "nbformat_minor": 4
}
